{
 "cells": [
  {
   "cell_type": "code",
   "execution_count": 1,
   "metadata": {},
   "outputs": [],
   "source": [
    "import numpy as np"
   ]
  },
  {
   "cell_type": "code",
   "execution_count": 108,
   "metadata": {},
   "outputs": [],
   "source": [
    "R = - np.ones([6,6])"
   ]
  },
  {
   "cell_type": "code",
   "execution_count": 109,
   "metadata": {},
   "outputs": [
    {
     "name": "stdout",
     "output_type": "stream",
     "text": [
      "[[-1. -1. -1. -1. -1. -1.]\n",
      " [-1. -1. -1. -1. -1. -1.]\n",
      " [-1. -1. -1. -1. -1. -1.]\n",
      " [-1. -1. -1. -1. -1. -1.]\n",
      " [-1. -1. -1. -1. -1. -1.]\n",
      " [-1. -1. -1. -1. -1. -1.]]\n"
     ]
    }
   ],
   "source": [
    "print(R)"
   ]
  },
  {
   "cell_type": "code",
   "execution_count": 110,
   "metadata": {},
   "outputs": [],
   "source": [
    "R[4,0] = 0\n",
    "R[3,1] = 0\n",
    "R[5,1] = 0\n",
    "R[3,2] = 0\n",
    "R[1,3] = 0\n",
    "R[2,3] = 0\n",
    "R[4,3] = 0\n",
    "R[0,4] = 0\n",
    "R[3,4] = 0\n",
    "R[5,4] = 0\n",
    "R[1,5] = 100\n",
    "R[4,5] = 100\n",
    "R[5,5] = 100"
   ]
  },
  {
   "cell_type": "code",
   "execution_count": 172,
   "metadata": {},
   "outputs": [
    {
     "name": "stdout",
     "output_type": "stream",
     "text": [
      "6\n"
     ]
    }
   ],
   "source": [
    "print(R.shape[0])"
   ]
  },
  {
   "cell_type": "code",
   "execution_count": 112,
   "metadata": {},
   "outputs": [
    {
     "data": {
      "text/plain": [
       "100.0"
      ]
     },
     "execution_count": 112,
     "metadata": {},
     "output_type": "execute_result"
    }
   ],
   "source": [
    "np.max(R)"
   ]
  },
  {
   "cell_type": "code",
   "execution_count": 181,
   "metadata": {},
   "outputs": [
    {
     "name": "stdout",
     "output_type": "stream",
     "text": [
      "[[  0   0   0   0  80   0]\n",
      " [  0   0   0  64   0 100]\n",
      " [  0   0   0  64   0   0]\n",
      " [  0  80  51   0  80   0]\n",
      " [ 64   0   0  64   0 100]\n",
      " [  0  80   0   0  80 100]]\n"
     ]
    }
   ],
   "source": [
    "# initialisation\n",
    "def QLearn(alpha, gamma, R, Q, nbEpoch):\n",
    "    #process\n",
    "    taille = Q.shape[0];\n",
    "    for i in range(0,nbEpoch,1): #boucle pour nbEpoch episodes\n",
    "        state1 = np.random.randint(0,taille) #etat initial aleatoire\n",
    "        actualState = state1\n",
    "        nextState = -1\n",
    "        #print(\"Début : \", i)\n",
    "        while (nextState != taille-1): # boucle jusqu'à atteindre etat final (le dernier)\n",
    "            #choix de l'etat suivant\n",
    "            nextState = np.random.randint(0, taille)\n",
    "            while (R[actualState,nextState] < 0): #on choisit un etat suivant possible, ie valeur positive\n",
    "                nextState = np.random.randint(0,taille)\n",
    "            #print(nextState)\n",
    "            #mise à jour de Q\n",
    "            Q[actualState, nextState] = Q[actualState, nextState] + alpha*(R[actualState, nextState]+gamma*max(Q[nextState])-Q[actualState, nextState])\n",
    "            actualState = nextState\n",
    "        #print(\"------------------\")\n",
    "    Q = 100/np.max(Q)*Q\n",
    "    Q = Q.astype(int)\n",
    "    return Q\n",
    "\n",
    "alpha = 1\n",
    "gamma = 0.8\n",
    "Q = np.zeros([6,6])\n",
    "nbEpisodes = 3000\n",
    "Qstar = QLearn(alpha, gamma, R, Q, nbEpisodes)\n",
    "print(Qstar)\n"
   ]
  },
  {
   "cell_type": "code",
   "execution_count": 114,
   "metadata": {},
   "outputs": [],
   "source": [
    "# Tour de Hanoï : 27 etats possible représenté par un tripler (a, b, c)\n",
    "# a représente la position du petit disque, b celle du moyen et c celle du grand\n",
    "# a, b et c prenne leur valeur entre 0 et 2 (trois tours), l'indice de leur position est \n",
    "# identifier par un chiffre entre 0 et 26 avec une écriture en base 3 : a + bx3 + cx3²"
   ]
  },
  {
   "cell_type": "code",
   "execution_count": 167,
   "metadata": {},
   "outputs": [
    {
     "name": "stdout",
     "output_type": "stream",
     "text": [
      "[[ -1   0   0  -1  -1  -1  -1  -1  -1  -1  -1  -1  -1  -1  -1  -1  -1  -1\n",
      "   -1  -1  -1  -1  -1  -1  -1  -1  -1]\n",
      " [  0  -1   0  -1  -1  -1  -1   0  -1  -1  -1  -1  -1  -1  -1  -1  -1  -1\n",
      "   -1  -1  -1  -1  -1  -1  -1  -1  -1]\n",
      " [  0   0  -1  -1  -1   0  -1  -1  -1  -1  -1  -1  -1  -1  -1  -1  -1  -1\n",
      "   -1  -1  -1  -1  -1  -1  -1  -1  -1]\n",
      " [ -1  -1  -1  -1   0   0   0  -1  -1  -1  -1  -1  -1  -1  -1  -1  -1  -1\n",
      "   -1  -1  -1  -1  -1  -1  -1  -1  -1]\n",
      " [ -1  -1  -1   0  -1   0  -1  -1  -1  -1  -1  -1  -1  -1  -1  -1  -1  -1\n",
      "   -1  -1  -1  -1   0  -1  -1  -1  -1]\n",
      " [ -1  -1   0   0   0  -1  -1  -1  -1  -1  -1  -1  -1  -1  -1  -1  -1  -1\n",
      "   -1  -1  -1  -1  -1  -1  -1  -1  -1]\n",
      " [ -1  -1  -1   0  -1  -1  -1   0   0  -1  -1  -1  -1  -1  -1  -1  -1  -1\n",
      "   -1  -1  -1  -1  -1  -1  -1  -1  -1]\n",
      " [ -1   0  -1  -1  -1  -1   0  -1   0  -1  -1  -1  -1  -1  -1  -1  -1  -1\n",
      "   -1  -1  -1  -1  -1  -1  -1  -1  -1]\n",
      " [ -1  -1  -1  -1  -1  -1   0   0  -1  -1  -1  -1  -1  -1  -1  -1  -1   0\n",
      "   -1  -1  -1  -1  -1  -1  -1  -1  -1]\n",
      " [ -1  -1  -1  -1  -1  -1  -1  -1  -1  -1   0   0  -1  -1  -1  -1  -1  -1\n",
      "    0  -1  -1  -1  -1  -1  -1  -1  -1]\n",
      " [ -1  -1  -1  -1  -1  -1  -1  -1  -1   0  -1   0  -1  -1  -1  -1   0  -1\n",
      "   -1  -1  -1  -1  -1  -1  -1  -1  -1]\n",
      " [ -1  -1  -1  -1  -1  -1  -1  -1  -1   0   0  -1  -1  -1   0  -1  -1  -1\n",
      "   -1  -1  -1  -1  -1  -1  -1  -1  -1]\n",
      " [ -1  -1  -1  -1  -1  -1  -1  -1  -1  -1  -1  -1  -1   0   0   0  -1  -1\n",
      "   -1  -1  -1  -1  -1  -1  -1  -1  -1]\n",
      " [ -1  -1  -1  -1  -1  -1  -1  -1  -1  -1  -1  -1   0  -1   0  -1  -1  -1\n",
      "   -1  -1  -1  -1  -1  -1  -1  -1  -1]\n",
      " [ -1  -1  -1  -1  -1  -1  -1  -1  -1  -1  -1   0   0   0  -1  -1  -1  -1\n",
      "   -1  -1  -1  -1  -1  -1  -1  -1  -1]\n",
      " [ -1  -1  -1  -1  -1  -1  -1  -1  -1  -1  -1  -1   0  -1  -1  -1   0   0\n",
      "   -1  -1  -1  -1  -1  -1  -1  -1  -1]\n",
      " [ -1  -1  -1  -1  -1  -1  -1  -1  -1  -1   0  -1  -1  -1  -1   0  -1   0\n",
      "   -1  -1  -1  -1  -1  -1  -1  -1  -1]\n",
      " [ -1  -1  -1  -1  -1  -1  -1  -1   0  -1  -1  -1  -1  -1  -1   0   0  -1\n",
      "   -1  -1  -1  -1  -1  -1  -1  -1  -1]\n",
      " [ -1  -1  -1  -1  -1  -1  -1  -1  -1   0  -1  -1  -1  -1  -1  -1  -1  -1\n",
      "   -1   0   0  -1  -1  -1  -1  -1  -1]\n",
      " [ -1  -1  -1  -1  -1  -1  -1  -1  -1  -1  -1  -1  -1  -1  -1  -1  -1  -1\n",
      "    0  -1   0  -1  -1  -1  -1   0  -1]\n",
      " [ -1  -1  -1  -1  -1  -1  -1  -1  -1  -1  -1  -1  -1  -1  -1  -1  -1  -1\n",
      "    0   0  -1  -1  -1   0  -1  -1  -1]\n",
      " [ -1  -1  -1  -1  -1  -1  -1  -1  -1  -1  -1  -1  -1  -1  -1  -1  -1  -1\n",
      "   -1  -1  -1  -1   0   0   0  -1  -1]\n",
      " [ -1  -1  -1  -1   0  -1  -1  -1  -1  -1  -1  -1  -1  -1  -1  -1  -1  -1\n",
      "   -1  -1  -1   0  -1   0  -1  -1  -1]\n",
      " [ -1  -1  -1  -1  -1  -1  -1  -1  -1  -1  -1  -1  -1  -1  -1  -1  -1  -1\n",
      "   -1  -1   0   0   0  -1  -1  -1  -1]\n",
      " [ -1  -1  -1  -1  -1  -1  -1  -1  -1  -1  -1  -1  -1  -1  -1  -1  -1  -1\n",
      "   -1  -1  -1   0  -1  -1  -1   0 100]\n",
      " [ -1  -1  -1  -1  -1  -1  -1  -1  -1  -1  -1  -1  -1  -1  -1  -1  -1  -1\n",
      "   -1   0  -1  -1  -1  -1   0  -1 100]\n",
      " [ -1  -1  -1  -1  -1  -1  -1  -1  -1  -1  -1  -1  -1  -1  -1  -1  -1  -1\n",
      "   -1  -1  -1  -1  -1  -1   0   0 100]]\n"
     ]
    }
   ],
   "source": [
    "ID101 = np.eye(27,27)*101\n",
    "ID101 = ID101.astype(int)\n",
    "ID2 = np.eye(27,27) # pour obtenir la matrice avec dernière colonne à 0 par produit matriciel\n",
    "ID2[26,26] = 0\n",
    "ID2 = ID2.astype(int)\n",
    "T = np.zeros([27,27]) #pour obtenir la dernière colonne par pdt mat\n",
    "T[26,26] = 1\n",
    "T = T.astype(int)\n",
    "ONE = np.ones([27,27])\n",
    "ONE = ONE.astype(int)\n",
    "# init R\n",
    "R_Hanoi = - np.ones([27,27])\n",
    "for i in range(0, 27, 1):\n",
    "    a = i % 3;\n",
    "    b = (i % 9) // 3;\n",
    "    c = i // 9;\n",
    "    # mise à jour des deux possibilités pour déplacer a (toujours possible car plus petit)\n",
    "    aa = (a + 1) % 3\n",
    "    aaa = (a + 2) % 3\n",
    "    j = aa + 3*b + 9*c\n",
    "    R_Hanoi[i,j] = 0\n",
    "    j = aaa + 3*b + 9*c\n",
    "    R_Hanoi[i,j] = 0\n",
    "    # mise à jour du déplacement de b si possible\n",
    "    if (a != b):\n",
    "        bb = 3 - a - b\n",
    "        j = a + 3*bb + 9*c\n",
    "        R_Hanoi[i,j] = 0\n",
    "    # mise à jour du déplacement de c si possbile\n",
    "    if ((a == b) and (c !=a) ):\n",
    "        cc = (2*c + a + b) % 3\n",
    "        j = a + 3*b + 9*cc\n",
    "        R_Hanoi[i,j] = 0\n",
    "# mise à jour dernière colonne avec 100 quand déplacement possible\n",
    "R_Hanoi = R_Hanoi.dot(ID2) + ((R_Hanoi.dot(T) + ONE).dot(T).dot(ID101) - ONE).dot(T) \n",
    "R_Hanoi[26,26] = 100\n",
    "R_Hanoi = R_Hanoi.astype(int)\n",
    "print(R_Hanoi)"
   ]
  },
  {
   "cell_type": "raw",
   "metadata": {},
   "source": []
  },
  {
   "cell_type": "code",
   "execution_count": 183,
   "metadata": {},
   "outputs": [
    {
     "name": "stdout",
     "output_type": "stream",
     "text": [
      "[[  0  20  26   0   0   0   0   0   0   0   0   0   0   0   0   0   0   0\n",
      "    0   0   0   0   0   0   0   0   0]\n",
      " [ 20   0  26   0   0   0   0  20   0   0   0   0   0   0   0   0   0   0\n",
      "    0   0   0   0   0   0   0   0   0]\n",
      " [ 20  20   0   0   0  32   0   0   0   0   0   0   0   0   0   0   0   0\n",
      "    0   0   0   0   0   0   0   0   0]\n",
      " [  0   0   0   0  40  32  26   0   0   0   0   0   0   0   0   0   0   0\n",
      "    0   0   0   0   0   0   0   0   0]\n",
      " [  0   0   0  32   0  32   0   0   0   0   0   0   0   0   0   0   0   0\n",
      "    0   0   0   0  51   0   0   0   0]\n",
      " [  0   0  26  32  40   0   0   0   0   0   0   0   0   0   0   0   0   0\n",
      "    0   0   0   0   0   0   0   0   0]\n",
      " [  0   0   0  32   0   0   0  20  20   0   0   0   0   0   0   0   0   0\n",
      "    0   0   0   0   0   0   0   0   0]\n",
      " [  0  20   0   0   0   0  26   0  20   0   0   0   0   0   0   0   0   0\n",
      "    0   0   0   0   0   0   0   0   0]\n",
      " [  0   0   0   0   0   0  26  20   0   0   0   0   0   0   0   0   0  20\n",
      "    0   0   0   0   0   0   0   0   0]\n",
      " [  0   0   0   0   0   0   0   0   0   0  32  32   0   0   0   0   0   0\n",
      "   51   0   0   0   0   0   0   0   0]\n",
      " [  0   0   0   0   0   0   0   0   0  40   0  32   0   0   0   0  26   0\n",
      "    0   0   0   0   0   0   0   0   0]\n",
      " [  0   0   0   0   0   0   0   0   0  40  32   0   0   0  26   0   0   0\n",
      "    0   0   0   0   0   0   0   0   0]\n",
      " [  0   0   0   0   0   0   0   0   0   0   0   0   0  20  26  20   0   0\n",
      "    0   0   0   0   0   0   0   0   0]\n",
      " [  0   0   0   0   0   0   0   0   0   0   0   0  20   0  26   0   0   0\n",
      "    0   0   0   0   0   0   0   0   0]\n",
      " [  0   0   0   0   0   0   0   0   0   0   0  32  20  20   0   0   0   0\n",
      "    0   0   0   0   0   0   0   0   0]\n",
      " [  0   0   0   0   0   0   0   0   0   0   0   0  20   0   0   0  26  20\n",
      "    0   0   0   0   0   0   0   0   0]\n",
      " [  0   0   0   0   0   0   0   0   0   0  32   0   0   0   0  20   0  20\n",
      "    0   0   0   0   0   0   0   0   0]\n",
      " [  0   0   0   0   0   0   0   0  20   0   0   0   0   0   0  20  26   0\n",
      "    0   0   0   0   0   0   0   0   0]\n",
      " [  0   0   0   0   0   0   0   0   0  40   0   0   0   0   0   0   0   0\n",
      "    0  64  51   0   0   0   0   0   0]\n",
      " [  0   0   0   0   0   0   0   0   0   0   0   0   0   0   0   0   0   0\n",
      "   51   0  51   0   0   0   0  80   0]\n",
      " [  0   0   0   0   0   0   0   0   0   0   0   0   0   0   0   0   0   0\n",
      "   51  64   0   0   0  51   0   0   0]\n",
      " [  0   0   0   0   0   0   0   0   0   0   0   0   0   0   0   0   0   0\n",
      "    0   0   0   0  51  51  80   0   0]\n",
      " [  0   0   0   0  40   0   0   0   0   0   0   0   0   0   0   0   0   0\n",
      "    0   0   0  64   0  51   0   0   0]\n",
      " [  0   0   0   0   0   0   0   0   0   0   0   0   0   0   0   0   0   0\n",
      "    0   0  51  64  51   0   0   0   0]\n",
      " [  0   0   0   0   0   0   0   0   0   0   0   0   0   0   0   0   0   0\n",
      "    0   0   0  64   0   0   0  80 100]\n",
      " [  0   0   0   0   0   0   0   0   0   0   0   0   0   0   0   0   0   0\n",
      "    0  64   0   0   0   0  80   0 100]\n",
      " [  0   0   0   0   0   0   0   0   0   0   0   0   0   0   0   0   0   0\n",
      "    0   0   0   0   0   0  79  79  99]]\n"
     ]
    }
   ],
   "source": [
    "alpha_Hanoi = 1\n",
    "gamma_Hanoi = 0.8\n",
    "Q_Hanoi = np.zeros([27,27])\n",
    "nbEpisodes_Hanoi = 3000\n",
    "Qstar_Hanoi = QLearn(alpha_Hanoi, gamma_Hanoi, R_Hanoi, Q_Hanoi, nbEpisodes_Hanoi)\n",
    "print(Qstar_Hanoi)\n"
   ]
  },
  {
   "cell_type": "code",
   "execution_count": 194,
   "metadata": {},
   "outputs": [],
   "source": [
    "#utilisation de la matrice Qstar_Hanoi pour se déplace"
   ]
  },
  {
   "cell_type": "code",
   "execution_count": 242,
   "metadata": {},
   "outputs": [
    {
     "name": "stdout",
     "output_type": "stream",
     "text": [
      "0\n",
      "2\n",
      "5\n",
      "4\n",
      "22\n",
      "21\n",
      "24\n",
      "26\n"
     ]
    }
   ],
   "source": [
    "Depart = np.zeros([27,27])\n",
    "Depart[0,0] = 1\n",
    "vecteurPosition = np.arange(27)\n",
    "\n",
    "positionInitiale = 0\n",
    "positionSuivante = 0\n",
    "matEnCours = Depart\n",
    "while (positionSuivante != 26):\n",
    "    print(positionSuivante)\n",
    "    matSuivante = matEnCours.dot(Qstar_Hanoi)\n",
    "    #print(matSuivante)\n",
    "    maxMat = np.max(matSuivante)\n",
    "    boolMat = (matSuivante >= maxMat)\n",
    "    nextPosition = boolMat.astype(int)\n",
    "    #print(nextPosition.transpose())\n",
    "    matEnCours = (nextPosition.transpose()).dot(nextPosition)\n",
    "    #print(\"------------------------\")\n",
    "    #print(matEnCours)\n",
    "    #print(\"/////////////////////////////\")\n",
    "    positionSuivante = np.max(vecteurPosition.dot(matEnCours))\n",
    "print(positionSuivante)"
   ]
  },
  {
   "cell_type": "code",
   "execution_count": null,
   "metadata": {},
   "outputs": [],
   "source": []
  }
 ],
 "metadata": {
  "kernelspec": {
   "display_name": "Python 3",
   "language": "python",
   "name": "python3"
  },
  "language_info": {
   "codemirror_mode": {
    "name": "ipython",
    "version": 3
   },
   "file_extension": ".py",
   "mimetype": "text/x-python",
   "name": "python",
   "nbconvert_exporter": "python",
   "pygments_lexer": "ipython3",
   "version": "3.7.6"
  }
 },
 "nbformat": 4,
 "nbformat_minor": 4
}
